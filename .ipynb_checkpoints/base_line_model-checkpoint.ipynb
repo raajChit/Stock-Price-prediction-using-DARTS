{
 "cells": [
  {
   "cell_type": "code",
   "execution_count": 2,
   "id": "21e84fb7",
   "metadata": {},
   "outputs": [],
   "source": [
    "import numpy as np\n",
    "import pandas as pd\n",
    "import matplotlib.pyplot as plt\n",
    "from darts import TimeSeries"
   ]
  },
  {
   "cell_type": "code",
   "execution_count": 3,
   "id": "e7645e71",
   "metadata": {},
   "outputs": [],
   "source": [
    "#import train_set.csv\n",
    "train_set = pd.read_csv('./data/train_set.csv')"
   ]
  },
  {
   "cell_type": "code",
   "execution_count": 8,
   "id": "18f3ce97",
   "metadata": {},
   "outputs": [],
   "source": [
    "ts = TimeSeries.from_dataframe(train_set, value_cols = [\"Close\"])"
   ]
  },
  {
   "cell_type": "code",
   "execution_count": null,
   "id": "f68799a3",
   "metadata": {},
   "outputs": [],
   "source": []
  }
 ],
 "metadata": {
  "kernelspec": {
   "display_name": "Python 3 (ipykernel)",
   "language": "python",
   "name": "python3"
  },
  "language_info": {
   "codemirror_mode": {
    "name": "ipython",
    "version": 3
   },
   "file_extension": ".py",
   "mimetype": "text/x-python",
   "name": "python",
   "nbconvert_exporter": "python",
   "pygments_lexer": "ipython3",
   "version": "3.10.0"
  }
 },
 "nbformat": 4,
 "nbformat_minor": 5
}
